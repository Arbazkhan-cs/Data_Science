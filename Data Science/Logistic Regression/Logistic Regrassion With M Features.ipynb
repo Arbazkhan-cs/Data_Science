{
 "cells": [
  {
   "cell_type": "code",
   "execution_count": 1,
   "id": "4a4bd046",
   "metadata": {},
   "outputs": [],
   "source": [
    "import numpy as np\n",
    "import pandas as pd\n",
    "import matplotlib.pyplot as plt"
   ]
  },
  {
   "cell_type": "code",
   "execution_count": 2,
   "id": "869d5539",
   "metadata": {},
   "outputs": [
    {
     "data": {
      "text/plain": [
       "(array([False, False, False,  True,  True,  True]),\n",
       " array([ True,  True,  True, False, False, False]))"
      ]
     },
     "execution_count": 2,
     "metadata": {},
     "output_type": "execute_result"
    },
    {
     "data": {
      "image/png": "[encoded data removed]",
      "text/plain": [
       "<Figure size 640x480 with 1 Axes>"
      ]
     },
     "metadata": {},
     "output_type": "display_data"
    }
   ],
   "source": [
    "x = np.array([[0.5, 1.5], [1,1], [1.5, 0.5], [3, 0.5], [2, 2], [1, 2.5]])  #(m,n)\n",
    "y = np.array([0, 0, 0, 1, 1, 1])  # n\n",
    "\n",
    "pos = y == 1\n",
    "neg = y == 0\n",
    "plt.scatter(x[pos, 0], x[pos, 1], marker=\"x\", label=\"Positive Class\")\n",
    "plt.scatter(x[neg, 0], x[neg, 1], marker=\"o\", label=\"Negative Class\")\n",
    "pos, neg"
   ]
  },
  {
   "cell_type": "code",
   "execution_count": 11,
   "id": "c0c60810",
   "metadata": {},
   "outputs": [
    {
     "name": "stdout",
     "output_type": "stream",
     "text": [
      "Updated weights: [2.30457062 2.07622315]\n",
      "Updated bias: -5.907698379622684\n"
     ]
    }
   ],
   "source": [
    "# logistic function\n",
    "def sigmoid(z):\n",
    "    gz = 1 / (1 + np.exp(-z))\n",
    "    return gz\n",
    "\n",
    "# Cost function\n",
    "def cost_fn(X, y, w, b):\n",
    "    m = len(X)\n",
    "    cost = 0.0\n",
    "    for i in range(m):\n",
    "        z_i = np.dot(X[i], w) + b\n",
    "        f_wb_i = sigmoid(z_i)\n",
    "        cost += -y[i] * np.log(f_wb_i) - (1 - y[i]) * np.log(1 - f_wb_i)\n",
    "\n",
    "    cost = cost / m\n",
    "    return cost\n",
    "\n",
    "# Gradient Descent For Logistic Regression\n",
    "def gradient_descent(X, y, w, b, alpha, iterator):\n",
    "    m = len(X)\n",
    "    \n",
    "    for _ in range(iterator):\n",
    "        z = np.dot(X, w) + b\n",
    "        f_wb = sigmoid(z)\n",
    "        dw = (1/m) * np.dot(X.T, (f_wb - y))\n",
    "        db = (1/m) * np.sum(f_wb - y)\n",
    "        \n",
    "        w -= alpha * dw\n",
    "        b -= alpha * db\n",
    "        \n",
    "    return w, b\n",
    "\n",
    "# Initialize weights and bias\n",
    "w = np.zeros(x.shape[1]) # if x is a 2d array with n features and m samples\n",
    "# w = 0\n",
    "b = 0\n",
    "\n",
    "# Hyperparameters\n",
    "alpha = 0.1\n",
    "iterations = 1000\n",
    "\n",
    "# Call gradient descent function\n",
    "w_updated, b_updated = gradient_descent(x, y, w, b, alpha, iterations)\n",
    "\n",
    "# Print updated weights and bias\n",
    "print(\"Updated weights:\", w_updated)\n",
    "print(\"Updated bias:\", b_updated)"
   ]
  },
  {
   "cell_type": "code",
   "execution_count": 12,
   "id": "a450b803",
   "metadata": {
    "scrolled": true
   },
   "outputs": [
    {
     "data": {
      "text/plain": [
       "1.0"
      ]
     },
     "execution_count": 12,
     "metadata": {},
     "output_type": "execute_result"
    }
   ],
   "source": [
    "def predict(x, w, b):\n",
    "    z = np.dot(x, w)+b\n",
    "    prob = sigmoid(z)\n",
    "    return np.round(prob)\n",
    "\n",
    "test = np.array([3, 0.5])\n",
    "predict(test, w_updated, b_updated)"
   ]
  },
  {
   "cell_type": "code",
   "execution_count": 2,
   "id": "359908a0",
   "metadata": {},
   "outputs": [
    {
     "ename": "NameError",
     "evalue": "name 'np' is not defined",
     "output_type": "error",
     "traceback": [
      "\u001b[1;31m---------------------------------------------------------------------------\u001b[0m",
      "\u001b[1;31mNameError\u001b[0m                                 Traceback (most recent call last)",
      "Cell \u001b[1;32mIn[2], line 2\u001b[0m\n\u001b[0;32m      1\u001b[0m \u001b[38;5;66;03m# Calculate the decision boundary\u001b[39;00m\n\u001b[1;32m----> 2\u001b[0m x1_boundary \u001b[38;5;241m=\u001b[39m np\u001b[38;5;241m.\u001b[39mlinspace(\u001b[38;5;28mmin\u001b[39m(x[:, \u001b[38;5;241m0\u001b[39m]), \u001b[38;5;28mmax\u001b[39m(x[:, \u001b[38;5;241m0\u001b[39m]), \u001b[38;5;241m100\u001b[39m)  \u001b[38;5;66;03m# Assuming x has shape (num_samples, num_features)\u001b[39;00m\n\u001b[0;32m      3\u001b[0m x2_boundary \u001b[38;5;241m=\u001b[39m (\u001b[38;5;241m-\u001b[39mw_updated[\u001b[38;5;241m0\u001b[39m] \u001b[38;5;241m*\u001b[39m x1_boundary \u001b[38;5;241m-\u001b[39m b_updated) \u001b[38;5;241m/\u001b[39m w_updated[\u001b[38;5;241m1\u001b[39m]\n\u001b[0;32m      5\u001b[0m \u001b[38;5;66;03m# Plot the data points\u001b[39;00m\n",
      "\u001b[1;31mNameError\u001b[0m: name 'np' is not defined"
     ]
    }
   ],
   "source": [
    "# Calculate the decision boundary\n",
    "x1_boundary = np.linspace(min(x[:, 0]), max(x[:, 0]), 100)  # Assuming x has shape (num_samples, num_features)\n",
    "x2_boundary = (-w_updated[0] * x1_boundary - b_updated) / w_updated[1]\n",
    "\n",
    "# Plot the data points\n",
    "plt.scatter(x[:, 0], x[:, 1], c=y, cmap=plt.cm.Paired, label='Data Points')\n",
    "\n",
    "# Plot the decision boundary line\n",
    "plt.plot(x1_boundary, x2_boundary, color='green', label='Decision Boundary')\n",
    "\n",
    "\n",
    "plt.xlabel('Feature 1')\n",
    "plt.ylabel('Feature 2')\n",
    "plt.title('Logistic Regression Decision Boundary')\n",
    "plt.legend()\n",
    "plt.show()"
   ]
  },
  {
   "cell_type": "code",
   "execution_count": null,
   "id": "d105ffbf",
   "metadata": {},
   "outputs": [],
   "source": []
  }
 ],
 "metadata": {
  "kernelspec": {
   "display_name": "Python 3 (ipykernel)",
   "language": "python",
   "name": "python3"
  },
  "language_info": {
   "codemirror_mode": {
    "name": "ipython",
    "version": 3
   },
   "file_extension": ".py",
   "mimetype": "text/x-python",
   "name": "python",
   "nbconvert_exporter": "python",
   "pygments_lexer": "ipython3",
   "version": "3.11.3"
  }
 },
 "nbformat": 4,
 "nbformat_minor": 5
}
