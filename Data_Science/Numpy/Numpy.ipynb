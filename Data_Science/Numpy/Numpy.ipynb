{
 "cells": [
  {
   "cell_type": "markdown",
   "id": "b0370538",
   "metadata": {},
   "source": [
    "<h1 style=\"color: Red\"> Numpy For Data Science </h1>"
   ]
  },
  {
   "cell_type": "code",
   "execution_count": 1,
   "id": "96ec6dd5-790e-43ed-944f-dd504c62b50f",
   "metadata": {
    "tags": []
   },
   "outputs": [],
   "source": [
    "import numpy as np"
   ]
  },
  {
   "cell_type": "code",
   "execution_count": 2,
   "id": "20d7a36a-b91d-40cb-a698-a4cbeefc6062",
   "metadata": {
    "tags": []
   },
   "outputs": [],
   "source": [
    "arr = np.array([1, 2, 3, 4])"
   ]
  },
  {
   "cell_type": "code",
   "execution_count": 3,
   "id": "93ccc34f-39a7-4bcc-8fca-8afbbc80cf85",
   "metadata": {
    "tags": []
   },
   "outputs": [
    {
     "data": {
      "text/plain": [
       "array([1, 2, 3, 4])"
      ]
     },
     "execution_count": 3,
     "metadata": {},
     "output_type": "execute_result"
    }
   ],
   "source": [
    "arr # printing the array"
   ]
  },
  {
   "cell_type": "code",
   "execution_count": 4,
   "id": "c031f325-d71f-4db6-a812-650c6bf21bc2",
   "metadata": {
    "tags": []
   },
   "outputs": [
    {
     "data": {
      "text/plain": [
       "(4,)"
      ]
     },
     "execution_count": 4,
     "metadata": {},
     "output_type": "execute_result"
    }
   ],
   "source": [
    "arr.shape # no. of rows and columns"
   ]
  },
  {
   "cell_type": "code",
   "execution_count": 5,
   "id": "2ccc1477-543f-421b-975d-6272124122e7",
   "metadata": {
    "tags": []
   },
   "outputs": [
    {
     "data": {
      "text/plain": [
       "array([[1, 2],\n",
       "       [4, 5],\n",
       "       [7, 8]])"
      ]
     },
     "execution_count": 5,
     "metadata": {},
     "output_type": "execute_result"
    }
   ],
   "source": [
    "arr = np.array([[1, 2],\n",
    "                [4, 5], \n",
    "                [7, 8]])\n",
    "arr.shape # no. of rows and cols: (3, 2)\n",
    "arr.ndim # dimenstion of the array: 2\n",
    "arr.itemsize # To see the size of each element in the array: 4(int)\n",
    "arr.dtype # To see the data type of the array: dtype('int32')\n",
    "arr.size # returns the total no of elements: 6\n",
    "arr.min() # used to search the minimum value: 1\n",
    "arr.max() # used to search the maximum value: 8\n",
    "arr.sum() # used to sum the all values: 27\n",
    "arr.sum(axis=0) # used to sum the y-axis values: array([12, 15])\n",
    "arr.sum(axis=1) # used to sum the x-axis values: array([3, 9, 15])\n",
    "np.sqrt(arr) # returns an array with all the values of sqrt\n",
    "arr # printing the array"
   ]
  },
  {
   "cell_type": "code",
   "execution_count": 6,
   "id": "92449590-3819-4abc-aaae-4a44e6579685",
   "metadata": {
    "tags": []
   },
   "outputs": [
    {
     "data": {
      "text/plain": [
       "array([[1.+0.j, 2.+0.j],\n",
       "       [3.+0.j, 4.+0.j],\n",
       "       [5.+0.j, 6.+0.j]])"
      ]
     },
     "execution_count": 6,
     "metadata": {},
     "output_type": "execute_result"
    }
   ],
   "source": [
    "arr = np.array([[1, 2], [3, 4], [5, 6]], dtype=complex) # creating a complex type array\n",
    "arr"
   ]
  },
  {
   "cell_type": "code",
   "execution_count": 7,
   "id": "abeaea0b-9fbf-47e7-a720-5f2f73fe0e63",
   "metadata": {
    "tags": []
   },
   "outputs": [
    {
     "data": {
      "text/plain": [
       "array([[0., 0., 0., 0.],\n",
       "       [0., 0., 0., 0.]])"
      ]
     },
     "execution_count": 7,
     "metadata": {},
     "output_type": "execute_result"
    }
   ],
   "source": [
    "arr = np.zeros((2, 4)) # array with containing 0's only\n",
    "arr"
   ]
  },
  {
   "cell_type": "code",
   "execution_count": 8,
   "id": "6a97be5e-ac76-4c4e-8f99-bf1418c2de3b",
   "metadata": {
    "tags": []
   },
   "outputs": [
    {
     "data": {
      "text/plain": [
       "array([[1., 1., 1.],\n",
       "       [1., 1., 1.]])"
      ]
     },
     "execution_count": 8,
     "metadata": {},
     "output_type": "execute_result"
    }
   ],
   "source": [
    "arr = np.ones((2, 3)) # array with containing 1's only \n",
    "arr"
   ]
  },
  {
   "cell_type": "code",
   "execution_count": 9,
   "id": "0ea19b06-68cf-416b-9099-1c04cc8df6e1",
   "metadata": {
    "tags": []
   },
   "outputs": [
    {
     "data": {
      "text/plain": [
       "array([1, 2, 3, 4])"
      ]
     },
     "execution_count": 9,
     "metadata": {},
     "output_type": "execute_result"
    }
   ],
   "source": [
    "arr = np.arange(1, 5, 1) # array with a range of numbers thirst parameter is a step\n",
    "arr"
   ]
  },
  {
   "cell_type": "code",
   "execution_count": 10,
   "id": "0449f1e6-9180-4aba-a917-cabb50d46aa3",
   "metadata": {
    "tags": []
   },
   "outputs": [
    {
     "data": {
      "text/plain": [
       "array([1.        , 1.44444444, 1.88888889, 2.33333333, 2.77777778,\n",
       "       3.22222222, 3.66666667, 4.11111111, 4.55555556, 5.        ])"
      ]
     },
     "execution_count": 10,
     "metadata": {},
     "output_type": "execute_result"
    }
   ],
   "source": [
    "arr = np.linspace(1, 5, 10) # A array with 1 to 5 numbers where is 10 step gap between them\n",
    "arr"
   ]
  },
  {
   "cell_type": "code",
   "execution_count": 11,
   "id": "b79bc382-e031-440a-9d22-8854abdb5581",
   "metadata": {
    "tags": []
   },
   "outputs": [
    {
     "data": {
      "text/plain": [
       "array([[1, 2, 3],\n",
       "       [4, 5, 6]])"
      ]
     },
     "execution_count": 11,
     "metadata": {},
     "output_type": "execute_result"
    }
   ],
   "source": [
    "arr = np.array([[1, 2],\n",
    "                [3, 4],\n",
    "                [5, 6]])\n",
    "arr.reshape(2, 3) # used to reshape the array: (3, 2) to (2, 3)"
   ]
  },
  {
   "cell_type": "code",
   "execution_count": 12,
   "id": "aee9034a-f51d-4da6-ac29-efdbd3776ebf",
   "metadata": {
    "tags": []
   },
   "outputs": [
    {
     "data": {
      "text/plain": [
       "array([1, 2, 3, 4, 5, 6])"
      ]
     },
     "execution_count": 12,
     "metadata": {},
     "output_type": "execute_result"
    }
   ],
   "source": [
    "arr = np.array([[1, 2],\n",
    "                [3, 4],\n",
    "                [5, 6]])\n",
    "arr.ravel() # used to change the array dimenstion to 1-d array"
   ]
  },
  {
   "cell_type": "code",
   "execution_count": 13,
   "id": "30ae2634-4304-4843-8d0e-d00f05c8454e",
   "metadata": {
    "tags": []
   },
   "outputs": [
    {
     "data": {
      "text/plain": [
       "array([[18, 21],\n",
       "       [40, 51]])"
      ]
     },
     "execution_count": 13,
     "metadata": {},
     "output_type": "execute_result"
    }
   ],
   "source": [
    "arr1 = np.array([[1, 2],\n",
    "                [3, 4]])\n",
    "\n",
    "arr2 = np.array([[4, 9],\n",
    "                [7, 6]])\n",
    "\n",
    "arr1+arr2 # return an array by adding arr1 and arr2\n",
    "arr1-arr2 # return an array by subtracting arr2 from arr1\n",
    "arr1*arr2 # return an array by multipying the values of arr1 by arr2\n",
    "arr1/arr2 # return an array by dividing the all values of arr1 by arr2\n",
    "arr1.dot(arr2) # return a matrix multiplication array"
   ]
  }
 ],
 "metadata": {
  "kernelspec": {
   "display_name": "Python 3 (ipykernel)",
   "language": "python",
   "name": "python3"
  },
  "language_info": {
   "codemirror_mode": {
    "name": "ipython",
    "version": 3
   },
   "file_extension": ".py",
   "mimetype": "text/x-python",
   "name": "python",
   "nbconvert_exporter": "python",
   "pygments_lexer": "ipython3",
   "version": "3.11.3"
  }
 },
 "nbformat": 4,
 "nbformat_minor": 5
}
