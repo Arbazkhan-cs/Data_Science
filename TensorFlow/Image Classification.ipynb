{
 "cells": [
  {
   "cell_type": "markdown",
   "id": "1d1ed27b",
   "metadata": {},
   "source": [
    "# Image Classification"
   ]
  },
  {
   "cell_type": "code",
   "execution_count": 1,
   "id": "0f8dddba",
   "metadata": {},
   "outputs": [],
   "source": [
    "import numpy as np\n",
    "import cv2\n",
    "X1 = cv2.imread(\"myphoto.jpg\")\n",
    "X1 = cv2.resize(X1, (300, 300))\n",
    "X1 = X1.reshape(-1)\n",
    "\n",
    "X2 = cv2.imread(\"ronaldo.jpg\")\n",
    "X2 = cv2.resize(X2, (300, 300))\n",
    "X2 = X2.reshape(-1)\n",
    "\n",
    "X3 = cv2.imread(\"messy.png\")\n",
    "X3 = cv2.resize(X3, (300, 300))\n",
    "X3 = X3.reshape(-1)"
   ]
  },
  {
   "cell_type": "code",
   "execution_count": 2,
   "id": "5c4c958b",
   "metadata": {},
   "outputs": [
    {
     "data": {
      "text/plain": [
       "((270000,), (270000,), (270000,))"
      ]
     },
     "execution_count": 2,
     "metadata": {},
     "output_type": "execute_result"
    }
   ],
   "source": [
    "X1.shape, X2.shape, X3.shape"
   ]
  },
  {
   "cell_type": "code",
   "execution_count": 3,
   "id": "7e008e6f",
   "metadata": {},
   "outputs": [],
   "source": [
    "X = np.array([X1, X2, X3])\n",
    "X = X/255"
   ]
  },
  {
   "cell_type": "code",
   "execution_count": 4,
   "id": "cebec975",
   "metadata": {},
   "outputs": [
    {
     "data": {
      "text/plain": [
       "(3, 270000)"
      ]
     },
     "execution_count": 4,
     "metadata": {},
     "output_type": "execute_result"
    }
   ],
   "source": [
    "X.shape"
   ]
  },
  {
   "cell_type": "code",
   "execution_count": 5,
   "id": "9f716d4d",
   "metadata": {},
   "outputs": [
    {
     "data": {
      "text/plain": [
       "array([[0],\n",
       "       [1],\n",
       "       [2]])"
      ]
     },
     "execution_count": 5,
     "metadata": {},
     "output_type": "execute_result"
    }
   ],
   "source": [
    "Y = np.array([[0], [1], [2]])\n",
    "# 0: Me\n",
    "# 1: Ronaldo\n",
    "# 2: Messy\n",
    "Y"
   ]
  },
  {
   "cell_type": "markdown",
   "id": "ac648d5d",
   "metadata": {},
   "source": [
    "# Creating Model"
   ]
  },
  {
   "cell_type": "code",
   "execution_count": 6,
   "id": "ebedfd0f",
   "metadata": {},
   "outputs": [],
   "source": [
    "import tensorflow as tf\n",
    "from tensorflow import keras"
   ]
  },
  {
   "cell_type": "code",
   "execution_count": 65,
   "id": "4dc081d2",
   "metadata": {},
   "outputs": [],
   "source": [
    "model = keras.Sequential([\n",
    "    keras.layers.Input(shape=(270000,)),\n",
    "    keras.layers.Dense(units=200, activation=\"sigmoid\", name=\"layer3\"),\n",
    "    keras.layers.Dense(units=200, activation=\"sigmoid\", name=\"layer2\"),\n",
    "    keras.layers.Dense(units=3, activation=\"softmax\", name=\"output_layer\")  # Softmax activation\n",
    "])"
   ]
  },
  {
   "cell_type": "code",
   "execution_count": 66,
   "id": "56d89459",
   "metadata": {},
   "outputs": [
    {
     "name": "stdout",
     "output_type": "stream",
     "text": [
      "Model: \"sequential_4\"\n",
      "_________________________________________________________________\n",
      " Layer (type)                Output Shape              Param #   \n",
      "=================================================================\n",
      " layer3 (Dense)              (None, 200)               54000200  \n",
      "                                                                 \n",
      " layer2 (Dense)              (None, 200)               40200     \n",
      "                                                                 \n",
      " output_layer (Dense)        (None, 3)                 603       \n",
      "                                                                 \n",
      "=================================================================\n",
      "Total params: 54041003 (206.15 MB)\n",
      "Trainable params: 54041003 (206.15 MB)\n",
      "Non-trainable params: 0 (0.00 Byte)\n",
      "_________________________________________________________________\n"
     ]
    }
   ],
   "source": [
    "model.summary()"
   ]
  },
  {
   "cell_type": "code",
   "execution_count": 73,
   "id": "99ce0428",
   "metadata": {},
   "outputs": [
    {
     "name": "stdout",
     "output_type": "stream",
     "text": [
      "Epoch 1/10\n",
      "1/1 [==============================] - 2s 2s/step - loss: 0.2133 - accuracy: 1.0000\n",
      "Epoch 2/10\n",
      "1/1 [==============================] - 1s 866ms/step - loss: 0.1936 - accuracy: 1.0000\n",
      "Epoch 3/10\n",
      "1/1 [==============================] - 1s 819ms/step - loss: 0.1769 - accuracy: 1.0000\n",
      "Epoch 4/10\n",
      "1/1 [==============================] - 1s 832ms/step - loss: 0.1575 - accuracy: 1.0000\n",
      "Epoch 5/10\n",
      "1/1 [==============================] - 1s 854ms/step - loss: 0.1414 - accuracy: 1.0000\n",
      "Epoch 6/10\n",
      "1/1 [==============================] - 1s 843ms/step - loss: 0.1286 - accuracy: 1.0000\n",
      "Epoch 7/10\n",
      "1/1 [==============================] - 1s 812ms/step - loss: 0.1167 - accuracy: 1.0000\n",
      "Epoch 8/10\n",
      "1/1 [==============================] - 1s 847ms/step - loss: 0.1049 - accuracy: 1.0000\n",
      "Epoch 9/10\n",
      "1/1 [==============================] - 1s 851ms/step - loss: 0.0939 - accuracy: 1.0000\n",
      "Epoch 10/10\n",
      "1/1 [==============================] - 1s 817ms/step - loss: 0.0843 - accuracy: 1.0000\n"
     ]
    },
    {
     "data": {
      "text/plain": [
       "<keras.src.callbacks.History at 0x1df101faed0>"
      ]
     },
     "execution_count": 73,
     "metadata": {},
     "output_type": "execute_result"
    }
   ],
   "source": [
    "model.compile(\n",
    "    optimizer=\"adam\",\n",
    "    loss=tf.keras.losses.SparseCategoricalCrossentropy(),\n",
    "    metrics=[\"accuracy\"]\n",
    ")\n",
    "\n",
    "model.fit(X, Y, epochs=10)"
   ]
  },
  {
   "cell_type": "markdown",
   "id": "4325aac8",
   "metadata": {},
   "source": [
    "# Testing The Model"
   ]
  },
  {
   "cell_type": "code",
   "execution_count": 74,
   "id": "81f20c5c",
   "metadata": {},
   "outputs": [
    {
     "name": "stdout",
     "output_type": "stream",
     "text": [
      "1/1 [==============================] - 0s 141ms/step\n",
      "Messy\n",
      "Probablitys = [[0.2692892  0.20208734 0.52862346]]\n"
     ]
    }
   ],
   "source": [
    "# Messy\n",
    "X_test = cv2.imread(\"messy_test.png\")\n",
    "X_test = cv2.resize(X_test, (300, 300))\n",
    "X_test = X_test.reshape(1, -1)/255\n",
    "\n",
    "Y_pred = model.predict(X_test)\n",
    "\n",
    "pred_class = np.argmax(Y_pred)\n",
    "class_labels = [\"Me\", \"Ronaldo\", \"Messy\"]\n",
    "\n",
    "print(class_labels[pred_class]) # Messy\n",
    "print(f\"Probablitys = {Y_pred}\")"
   ]
  },
  {
   "cell_type": "code",
   "execution_count": 75,
   "id": "e63880fd",
   "metadata": {},
   "outputs": [
    {
     "name": "stdout",
     "output_type": "stream",
     "text": [
      "1/1 [==============================] - 0s 67ms/step\n",
      "Ronaldo\n",
      "Probablitys = [[0.33786198 0.59263784 0.06950017]]\n"
     ]
    }
   ],
   "source": [
    "# Ronaldo\n",
    "X_test = cv2.imread(\"ronaldo_test.png\")\n",
    "X_test = cv2.resize(X_test, (300, 300))\n",
    "X_test = X_test.reshape(1, -1)/255\n",
    "\n",
    "Y_pred = model.predict(X_test)\n",
    "\n",
    "pred_class = np.argmax(Y_pred)\n",
    "class_labels = [\"Me\", \"Ronaldo\", \"Messy\"]\n",
    "\n",
    "print(class_labels[pred_class]) # Ronaldo\n",
    "print(f\"Probablitys = {Y_pred}\")"
   ]
  },
  {
   "cell_type": "code",
   "execution_count": null,
   "id": "0871b980",
   "metadata": {},
   "outputs": [],
   "source": []
  }
 ],
 "metadata": {
  "kernelspec": {
   "display_name": "Python 3 (ipykernel)",
   "language": "python",
   "name": "python3"
  },
  "language_info": {
   "codemirror_mode": {
    "name": "ipython",
    "version": 3
   },
   "file_extension": ".py",
   "mimetype": "text/x-python",
   "name": "python",
   "nbconvert_exporter": "python",
   "pygments_lexer": "ipython3",
   "version": "3.11.3"
  }
 },
 "nbformat": 4,
 "nbformat_minor": 5
}
